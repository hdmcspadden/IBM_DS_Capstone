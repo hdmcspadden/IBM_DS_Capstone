{
 "metadata": {
  "language_info": {
   "codemirror_mode": {
    "name": "ipython",
    "version": 3
   },
   "file_extension": ".py",
   "mimetype": "text/x-python",
   "name": "python",
   "nbconvert_exporter": "python",
   "pygments_lexer": "ipython3",
   "version": "3.8.3-final"
  },
  "orig_nbformat": 2,
  "kernelspec": {
   "name": "python3",
   "display_name": "Python 3",
   "language": "python"
  }
 },
 "nbformat": 4,
 "nbformat_minor": 2,
 "cells": [
  {
   "source": [
    "Use Beautiful Soup Library to scrape the Toronto Neighborhoods from wikipedia and place into a dataframe and save the dataframe to a csv.\n",
    "\n",
    "https://en.wikipedia.org/wiki/List_of_postal_codes_of_Canada:_M\n",
    "\n",
    "Resulting DataFrame should be index column, PostalCode, Borough, Neighborhood"
   ],
   "cell_type": "markdown",
   "metadata": {}
  },
  {
   "cell_type": "code",
   "execution_count": 2,
   "metadata": {},
   "outputs": [],
   "source": [
    "# Import Libraries I will need\n",
    "import requests # import requests library\n",
    "from bs4 import BeautifulSoup # import BeautifulSoup library\n",
    "import pandas as pd\n",
    "import csv "
   ]
  },
  {
   "cell_type": "code",
   "execution_count": 17,
   "metadata": {
    "tags": []
   },
   "outputs": [],
   "source": [
    "url = 'https://en.wikipedia.org/wiki/List_of_postal_codes_of_Canada:_M'\n",
    "response = requests.get(url)\n",
    "soup = BeautifulSoup(response.content, 'html5lib')\n",
    "#print(soup)"
   ]
  },
  {
   "cell_type": "code",
   "execution_count": 19,
   "metadata": {},
   "outputs": [],
   "source": [
    "# find the table with the postal codes by searching for the table with the correct class\n",
    "tbl = soup.find('table', attrs = {'class': 'wikitable sortable'}) \n",
    "#print(tbl)"
   ]
  },
  {
   "cell_type": "code",
   "execution_count": 66,
   "metadata": {},
   "outputs": [
    {
     "output_type": "stream",
     "name": "stdout",
     "text": [
      "(103, 3)\n"
     ]
    },
    {
     "output_type": "execute_result",
     "data": {
      "text/plain": [
       "  PostalCode           Borough                                 Neighborhood\n",
       "0        M3A        North York                                    Parkwoods\n",
       "1        M4A        North York                             Victoria Village\n",
       "2        M5A  Downtown Toronto                    Regent Park, Harbourfront\n",
       "3        M6A        North York             Lawrence Manor, Lawrence Heights\n",
       "4        M7A  Downtown Toronto  Queen's Park, Ontario Provincial Government"
      ],
      "text/html": "<div>\n<style scoped>\n    .dataframe tbody tr th:only-of-type {\n        vertical-align: middle;\n    }\n\n    .dataframe tbody tr th {\n        vertical-align: top;\n    }\n\n    .dataframe thead th {\n        text-align: right;\n    }\n</style>\n<table border=\"1\" class=\"dataframe\">\n  <thead>\n    <tr style=\"text-align: right;\">\n      <th></th>\n      <th>PostalCode</th>\n      <th>Borough</th>\n      <th>Neighborhood</th>\n    </tr>\n  </thead>\n  <tbody>\n    <tr>\n      <th>0</th>\n      <td>M3A</td>\n      <td>North York</td>\n      <td>Parkwoods</td>\n    </tr>\n    <tr>\n      <th>1</th>\n      <td>M4A</td>\n      <td>North York</td>\n      <td>Victoria Village</td>\n    </tr>\n    <tr>\n      <th>2</th>\n      <td>M5A</td>\n      <td>Downtown Toronto</td>\n      <td>Regent Park, Harbourfront</td>\n    </tr>\n    <tr>\n      <th>3</th>\n      <td>M6A</td>\n      <td>North York</td>\n      <td>Lawrence Manor, Lawrence Heights</td>\n    </tr>\n    <tr>\n      <th>4</th>\n      <td>M7A</td>\n      <td>Downtown Toronto</td>\n      <td>Queen's Park, Ontario Provincial Government</td>\n    </tr>\n  </tbody>\n</table>\n</div>"
     },
     "metadata": {},
     "execution_count": 66
    }
   ],
   "source": [
    "# create the empty DataFrame\n",
    "# define the dataframe columns\n",
    "column_names = ['PostalCode', 'Borough', 'Neighborhood'] \n",
    "\n",
    "# instantiate the dataframe\n",
    "pd_Toronto = pd.DataFrame(columns=column_names)\n",
    "\n",
    "# get the tbody tag because we don't want the header row\n",
    "tbody = tbl.find('tbody')\n",
    "#print(tbody)\n",
    "for tr in tbody.findAll('tr'):\n",
    "    # for each row get the values in the table cells\n",
    "    cellCounter = 0\n",
    "\n",
    "    for td in tr.findAll('td'):\n",
    "        if (cellCounter == 0):\n",
    "            postalcode = td.contents[0].replace('\\n', '')\n",
    "            cellCounter+=1\n",
    "        else:\n",
    "            if (cellCounter == 1):\n",
    "                borough = td.contents[0].replace('\\n', '')\n",
    "                cellCounter+=1\n",
    "            else:\n",
    "                if (cellCounter == 2):\n",
    "                    neighborhood = td.contents[0].replace('\\n', '')\n",
    "                    if (neighborhood[0:5] != 'Not a'):\n",
    "                        #print('Code: {}, Borough: {}, Neighborhood: {}'.format(postalcode,borough,neighborhood))\n",
    "                        # add to our DataFrame\n",
    "                        pd_Toronto = pd_Toronto.append({'PostalCode': postalcode, 'Borough': borough, 'Neighborhood': neighborhood}, ignore_index=True)  \n",
    "                    cellCounter+=1 \n",
    "\n",
    "print(pd_Toronto.shape)\n",
    "pd_Toronto.head()   \n"
   ]
  },
  {
   "cell_type": "code",
   "execution_count": 67,
   "metadata": {},
   "outputs": [],
   "source": [
    "# save to a csv for later use\n",
    "pd_Toronto.to_csv('Toronto.csv')"
   ]
  }
 ]
}